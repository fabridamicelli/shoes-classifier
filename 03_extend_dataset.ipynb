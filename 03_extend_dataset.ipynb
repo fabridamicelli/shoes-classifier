{
 "cells": [
  {
   "cell_type": "markdown",
   "id": "e84695ff-c562-4ba6-a503-3d15059aea89",
   "metadata": {},
   "source": [
    "## Create test dataset\n",
    "The goal in this notebook is to create a proper test dataset evaluate the model with completely unseen images.\n",
    "\n",
    "We download new images from the internet by searching with the prompt \"$BRAND shoes\", where BRAND is one of \"nike\", \"adidas\" or \"converse\".\n",
    "\n",
    "Images are also resized to match the training/valid."
   ]
  },
  {
   "cell_type": "code",
   "execution_count": 1,
   "id": "2175888a-60d9-464b-afdc-0bd40540726d",
   "metadata": {},
   "outputs": [],
   "source": [
    "from fastbook import *"
   ]
  },
  {
   "cell_type": "code",
   "execution_count": 2,
   "id": "75dd07e1-2e5b-4665-a61c-ac4a9d72ec9a",
   "metadata": {},
   "outputs": [
    {
     "data": {
      "text/plain": [
       "(#6) [Path('/home/fabrizio/projects/shoes-classifier/data/models'),Path('/home/fabrizio/projects/shoes-classifier/data/resnet18-fine-tuned-stage-1.pkl'),Path('/home/fabrizio/projects/shoes-classifier/data/.ipynb_checkpoints'),Path('/home/fabrizio/projects/shoes-classifier/data/test_extra'),Path('/home/fabrizio/projects/shoes-classifier/data/test'),Path('/home/fabrizio/projects/shoes-classifier/data/train')]"
      ]
     },
     "execution_count": 2,
     "metadata": {},
     "output_type": "execute_result"
    }
   ],
   "source": [
    "path = Path(os.environ[\"PROJECTS\"])/\"shoes-classifier\"\n",
    "(path/\"data\").ls()"
   ]
  },
  {
   "cell_type": "markdown",
   "id": "b7805194-9525-4f52-a768-3c368d430eaa",
   "metadata": {},
   "source": [
    "Let's check the size of the original images to later resize the new images to match that size"
   ]
  },
  {
   "cell_type": "code",
   "execution_count": 3,
   "id": "4c35c4b1-4dd4-4ee0-af53-cd62c217606d",
   "metadata": {},
   "outputs": [
    {
     "data": {
      "text/plain": [
       "{(240, 240)}"
      ]
     },
     "execution_count": 3,
     "metadata": {},
     "output_type": "execute_result"
    }
   ],
   "source": [
    "fns_train = get_image_files(path/\"data\"/\"train\")\n",
    "fns_valid = get_image_files(path/\"data\"/\"valid\")\n",
    "set(load_image(fn).size for fn in fns_train + fns_valid)"
   ]
  },
  {
   "cell_type": "markdown",
   "id": "2d3470b9-0afa-4f91-bcfd-494332cf1523",
   "metadata": {},
   "source": [
    "Now let's download new data!"
   ]
  },
  {
   "cell_type": "code",
   "execution_count": 4,
   "id": "cc07cd7b-4a5c-41c2-b63c-7622f2ad9882",
   "metadata": {},
   "outputs": [],
   "source": [
    "brands = (\"nike\", \"adidas\", \"converse\")"
   ]
  },
  {
   "cell_type": "code",
   "execution_count": 5,
   "id": "52c45411-10d7-4cf1-87dc-da869a894424",
   "metadata": {},
   "outputs": [],
   "source": [
    "n_download = 200"
   ]
  },
  {
   "cell_type": "code",
   "execution_count": 6,
   "id": "2976447d-057c-4902-b229-dd920c910b5f",
   "metadata": {},
   "outputs": [],
   "source": [
    "test_path = mkdir(path/\"data\"/\"test_extra\", exist_ok=True)\n",
    "data = {k: defaultdict() for k in brands}\n",
    "for brand in brands:\n",
    "    dest_dir_raw = test_path/\"raw\"/brand\n",
    "    dest_dir = test_path/brand\n",
    "    if dest_dir_raw.exists(): shutil.rmtree(dest_dir_raw)\n",
    "    if dest_dir.exists(): shutil.rmtree(dest_dir)\n",
    "    data[brand][\"path_raw\"] = mkdir(dest_dir_raw, parents=True)\n",
    "    data[brand][\"path\"] = mkdir(dest_dir, parents=True)\n",
    "    data[brand][\"urls\"] = search_images_ddg(f\"{brand} shoes\", n_download)"
   ]
  },
  {
   "cell_type": "code",
   "execution_count": 7,
   "id": "7df75777-f379-41ee-b89e-aee8cd6fe051",
   "metadata": {},
   "outputs": [],
   "source": [
    "def resize_imgs_brand(brand):\n",
    "    imgs = [(fn, load_image(fn).resize((240,240))) for fn in get_image_files(data[brand][\"path_raw\"])]\n",
    "    assert imgs, \"No images found!\"\n",
    "    failed = []\n",
    "    for fn, img in imgs:\n",
    "        try:\n",
    "            img.save(data[brand][\"path\"]/f\"resized_{fn.name}\")\n",
    "        except Exception as e:\n",
    "            print(e)\n",
    "            failed.append(fn)\n",
    "    return failed"
   ]
  },
  {
   "cell_type": "code",
   "execution_count": 8,
   "id": "48f9c16f-07f3-484f-9218-cfaa358880cf",
   "metadata": {},
   "outputs": [],
   "source": [
    "def rm(fns: list[Path]):\n",
    "    for fn in failed: fn.unlink()"
   ]
  },
  {
   "cell_type": "code",
   "execution_count": 9,
   "id": "bc3ab470-1d3f-4893-991a-e19a2dcdb6c6",
   "metadata": {},
   "outputs": [
    {
     "name": "stdout",
     "output_type": "stream",
     "text": [
      "nike: removing 22 images\n",
      "nike: removing 0 images during resize\n",
      "adidas: removing 33 images\n",
      "cannot write mode RGBA as JPEG\n",
      "cannot write mode RGBA as JPEG\n",
      "cannot write mode RGBA as JPEG\n",
      "cannot write mode RGBA as JPEG\n",
      "adidas: removing 4 images during resize\n",
      "converse: removing 7 images\n",
      "converse: removing 0 images during resize\n"
     ]
    }
   ],
   "source": [
    "for brand in brands:\n",
    "    dest_dir = data[brand][\"path_raw\"]\n",
    "    download_images(dest_dir, urls=data[brand][\"urls\"])\n",
    "    failed = verify_images(get_image_files(dest_dir))\n",
    "    print(f\"{brand}: removing {len(failed)} images\")\n",
    "    rm(failed)\n",
    "    failed = resize_imgs_brand(brand)\n",
    "    print(f\"{brand}: removing {len(failed)} images during resize\")\n",
    "    rm(failed)"
   ]
  },
  {
   "cell_type": "code",
   "execution_count": 10,
   "id": "e23a0795-58e7-44aa-933c-95a01a6cda8e",
   "metadata": {},
   "outputs": [
    {
     "data": {
      "text/plain": [
       "(#0) []"
      ]
     },
     "execution_count": 10,
     "metadata": {},
     "output_type": "execute_result"
    }
   ],
   "source": [
    "verify_images(get_image_files(data[brand][\"path\"]))"
   ]
  },
  {
   "cell_type": "code",
   "execution_count": 11,
   "id": "f74648b7-6a4e-4ef0-a41b-7dd1073e6a84",
   "metadata": {},
   "outputs": [
    {
     "data": {
      "text/plain": [
       "((#2) [Path('/home/fabrizio/projects/shoes-classifier/data/test_extra/raw/converse/a4cec7cc-fecd-424b-bf5f-61c5ea12d88d.jpg'),Path('/home/fabrizio/projects/shoes-classifier/data/test_extra/raw/converse/c677a745-9c06-43fd-b899-92472fb4a876.jpeg')],\n",
       " (#2) [Path('/home/fabrizio/projects/shoes-classifier/data/test_extra/converse/resized_3a70384c-eefe-4972-8610-8b9f107fa1cd.png'),Path('/home/fabrizio/projects/shoes-classifier/data/test_extra/converse/resized_0c43ac5d-1f8f-41a9-9196-d0873e592a45.jpeg')])"
      ]
     },
     "execution_count": 11,
     "metadata": {},
     "output_type": "execute_result"
    }
   ],
   "source": [
    "data[brand][\"path_raw\"].ls()[:2], data[brand][\"path\"].ls()[:2]"
   ]
  },
  {
   "cell_type": "code",
   "execution_count": 12,
   "id": "583c5900-f5d1-40cd-8db8-d58f61556cc1",
   "metadata": {},
   "outputs": [
    {
     "data": {
      "image/png": "[encoded data removed]",
      "text/plain": [
       "<PIL.Image.Image image mode=RGB size=240x240>"
      ]
     },
     "execution_count": 12,
     "metadata": {},
     "output_type": "execute_result"
    }
   ],
   "source": [
    "load_image(get_image_files(data[\"adidas\"][\"path\"])[1])"
   ]
  },
  {
   "cell_type": "code",
   "execution_count": 13,
   "id": "667d0b39-fb36-4312-8948-1b26899fa779",
   "metadata": {},
   "outputs": [
    {
     "name": "stdout",
     "output_type": "stream",
     "text": [
      "nike 159\n",
      "adidas 147\n",
      "converse 170\n"
     ]
    }
   ],
   "source": [
    "for brand in brands:\n",
    "    print(brand, len(data[brand][\"path\"].ls()))"
   ]
  },
  {
   "cell_type": "markdown",
   "id": "7e2f68be-d45b-4257-b392-482e3001fce5",
   "metadata": {},
   "source": [
    "Delete raw pictures"
   ]
  },
  {
   "cell_type": "code",
   "execution_count": 14,
   "id": "52c6ffa5-130a-4bea-af1f-a8bf54a7e372",
   "metadata": {},
   "outputs": [
    {
     "name": "stdout",
     "output_type": "stream",
     "text": [
      "adidas\tconverse  nike\traw\n"
     ]
    }
   ],
   "source": [
    "!ls {path/\"data\"/\"test_extra\"} "
   ]
  },
  {
   "cell_type": "code",
   "execution_count": 15,
   "id": "c57f2352-022d-4912-b09f-be1d8f65cdde",
   "metadata": {},
   "outputs": [],
   "source": [
    "!rm -rf {path/\"data\"/\"test_extra\"/\"raw\"}"
   ]
  },
  {
   "cell_type": "code",
   "execution_count": 16,
   "id": "92dfdc8d-f725-4465-8905-2c3abb097ddc",
   "metadata": {},
   "outputs": [
    {
     "name": "stdout",
     "output_type": "stream",
     "text": [
      "\u001b[01;34m/home/fabrizio/projects/shoes-classifier/data/test_extra\u001b[00m\n",
      "├── \u001b[01;34madidas\u001b[00m\n",
      "├── \u001b[01;34mconverse\u001b[00m\n",
      "└── \u001b[01;34mnike\u001b[00m\n",
      "\n",
      "3 directories\n"
     ]
    }
   ],
   "source": [
    "!tree -d {path/\"data\"/\"test_extra\"}"
   ]
  },
  {
   "cell_type": "code",
   "execution_count": null,
   "id": "34a232f8-b63b-4516-89f1-e3f305e2bc47",
   "metadata": {},
   "outputs": [],
   "source": []
  }
 ],
 "metadata": {
  "kernelspec": {
   "display_name": "Python 3 (ipykernel)",
   "language": "python",
   "name": "python3"
  },
  "language_info": {
   "codemirror_mode": {
    "name": "ipython",
    "version": 3
   },
   "file_extension": ".py",
   "mimetype": "text/x-python",
   "name": "python",
   "nbconvert_exporter": "python",
   "pygments_lexer": "ipython3",
   "version": "3.10.6"
  }
 },
 "nbformat": 4,
 "nbformat_minor": 5
}
